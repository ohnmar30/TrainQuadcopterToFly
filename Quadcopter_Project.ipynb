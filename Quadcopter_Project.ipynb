{
 "cells": [
  {
   "cell_type": "markdown",
   "metadata": {},
   "source": [
    "# Project: Train a Quadcopter How to Fly\n",
    "\n",
    "Design an agent to fly a quadcopter, and then train it using a reinforcement learning algorithm of your choice! \n",
    "\n",
    "Try to apply the techniques you have learnt, but also feel free to come up with innovative ideas and test them."
   ]
  },
  {
   "cell_type": "markdown",
   "metadata": {},
   "source": [
    "## Instructions\n",
    "\n",
    "Take a look at the files in the directory to better understand the structure of the project. \n",
    "\n",
    "- `task.py`: Define your task (environment) in this file.\n",
    "- `agents/`: Folder containing reinforcement learning agents.\n",
    "    - `policy_search.py`: A sample agent has been provided here.\n",
    "    - `agent.py`: Develop your agent here.\n",
    "- `physics_sim.py`: This file contains the simulator for the quadcopter.  **DO NOT MODIFY THIS FILE**.\n",
    "\n",
    "For this project, you will define your own task in `task.py`.  Although we have provided a example task to get you started, you are encouraged to change it.  Later in this notebook, you will learn more about how to amend this file.\n",
    "\n",
    "You will also design a reinforcement learning agent in `agent.py` to complete your chosen task.  \n",
    "\n",
    "You are welcome to create any additional files to help you to organize your code.  For instance, you may find it useful to define a `model.py` file defining any needed neural network architectures.\n",
    "\n",
    "## Controlling the Quadcopter\n",
    "\n",
    "We provide a sample agent in the code cell below to show you how to use the sim to control the quadcopter.  This agent is even simpler than the sample agent that you'll examine (in `agents/policy_search.py`) later in this notebook!\n",
    "\n",
    "The agent controls the quadcopter by setting the revolutions per second on each of its four rotors.  The provided agent in the `Basic_Agent` class below always selects a random action for each of the four rotors.  These four speeds are returned by the `act` method as a list of four floating-point numbers.  \n",
    "\n",
    "For this project, the agent that you will implement in `agents/agent.py` will have a far more intelligent method for selecting actions!"
   ]
  },
  {
   "cell_type": "code",
   "execution_count": 1,
   "metadata": {
    "collapsed": true
   },
   "outputs": [],
   "source": [
    "import random\n",
    "\n",
    "class Basic_Agent():\n",
    "    def __init__(self, task):\n",
    "        self.task = task\n",
    "    \n",
    "    def act(self):\n",
    "        new_thrust = random.gauss(450., 25.)\n",
    "        return [new_thrust + random.gauss(0., 1.) for x in range(4)]"
   ]
  },
  {
   "cell_type": "markdown",
   "metadata": {},
   "source": [
    "Run the code cell below to have the agent select actions to control the quadcopter.  \n",
    "\n",
    "Feel free to change the provided values of `runtime`, `init_pose`, `init_velocities`, and `init_angle_velocities` below to change the starting conditions of the quadcopter.\n",
    "\n",
    "The `labels` list below annotates statistics that are saved while running the simulation.  All of this information is saved in a text file `data.txt` and stored in the dictionary `results`.  "
   ]
  },
  {
   "cell_type": "code",
   "execution_count": 2,
   "metadata": {
    "collapsed": true
   },
   "outputs": [],
   "source": [
    "%load_ext autoreload\n",
    "%autoreload 2\n",
    "\n",
    "import csv\n",
    "import numpy as np\n",
    "from task import Task\n",
    "\n",
    "# Modify the values below to give the quadcopter a different starting position.\n",
    "runtime = 10.                                     # time limit of the episode\n",
    "init_pose = np.array([0., 0., 12., 0., 0., 0.])  # initial pose\n",
    "init_velocities = np.array([0., 0., 0.])         # initial velocities\n",
    "init_angle_velocities = np.array([0., 0., 0.])   # initial angle velocities\n",
    "file_output = 'data.txt'                         # file name for saved results\n",
    "\n",
    "# Setup\n",
    "task = Task(init_pose, init_velocities, init_angle_velocities, runtime)\n",
    "agent = Basic_Agent(task)\n",
    "done = False\n",
    "labels = ['time', 'x', 'y', 'z', 'phi', 'theta', 'psi', 'x_velocity',\n",
    "          'y_velocity', 'z_velocity', 'phi_velocity', 'theta_velocity',\n",
    "          'psi_velocity', 'rotor_speed1', 'rotor_speed2', 'rotor_speed3', 'rotor_speed4']\n",
    "results = {x : [] for x in labels}\n",
    "\n",
    "# Run the simulation, and save the results.\n",
    "with open(file_output, 'w') as csvfile:\n",
    "    writer = csv.writer(csvfile)\n",
    "    writer.writerow(labels)\n",
    "    while True:\n",
    "        rotor_speeds = agent.act()\n",
    "        _, _, done = task.step(rotor_speeds)\n",
    "        to_write = [task.sim.time] + list(task.sim.pose) + list(task.sim.v) + list(task.sim.angular_v) + list(rotor_speeds)\n",
    "        for ii in range(len(labels)):\n",
    "            results[labels[ii]].append(to_write[ii])\n",
    "        writer.writerow(to_write)\n",
    "        if done:\n",
    "            break"
   ]
  },
  {
   "cell_type": "markdown",
   "metadata": {},
   "source": [
    "Run the code cell below to visualize how the position of the quadcopter evolved during the simulation."
   ]
  },
  {
   "cell_type": "code",
   "execution_count": 3,
   "metadata": {},
   "outputs": [
    {
     "data": {
      "image/png": "[encoded data removed]",
      "text/plain": [
       "<matplotlib.figure.Figure at 0x20b027ae3c8>"
      ]
     },
     "metadata": {},
     "output_type": "display_data"
    }
   ],
   "source": [
    "import matplotlib.pyplot as plt\n",
    "%matplotlib inline\n",
    "\n",
    "plt.plot(results['time'], results['x'], label='x')\n",
    "plt.plot(results['time'], results['y'], label='y')\n",
    "plt.plot(results['time'], results['z'], label='z')\n",
    "plt.legend()\n",
    "_ = plt.ylim()"
   ]
  },
  {
   "cell_type": "markdown",
   "metadata": {},
   "source": [
    "The next code cell visualizes the velocity of the quadcopter."
   ]
  },
  {
   "cell_type": "code",
   "execution_count": 4,
   "metadata": {},
   "outputs": [
    {
     "data": {
      "image/png": "[encoded data removed]",
      "text/plain": [
       "<matplotlib.figure.Figure at 0x20b027ae278>"
      ]
     },
     "metadata": {},
     "output_type": "display_data"
    }
   ],
   "source": [
    "plt.plot(results['time'], results['x_velocity'], label='x_hat')\n",
    "plt.plot(results['time'], results['y_velocity'], label='y_hat')\n",
    "plt.plot(results['time'], results['z_velocity'], label='z_hat')\n",
    "plt.legend()\n",
    "_ = plt.ylim()"
   ]
  },
  {
   "cell_type": "markdown",
   "metadata": {},
   "source": [
    "Next, you can plot the Euler angles (the rotation of the quadcopter over the $x$-, $y$-, and $z$-axes),"
   ]
  },
  {
   "cell_type": "code",
   "execution_count": 5,
   "metadata": {},
   "outputs": [
    {
     "data": {
      "image/png": "[encoded data removed]",
      "text/plain": [
       "<matplotlib.figure.Figure at 0x20b04d187f0>"
      ]
     },
     "metadata": {},
     "output_type": "display_data"
    }
   ],
   "source": [
    "plt.plot(results['time'], results['phi'], label='phi')\n",
    "plt.plot(results['time'], results['theta'], label='theta')\n",
    "plt.plot(results['time'], results['psi'], label='psi')\n",
    "plt.legend()\n",
    "_ = plt.ylim()"
   ]
  },
  {
   "cell_type": "markdown",
   "metadata": {},
   "source": [
    "before plotting the velocities (in radians per second) corresponding to each of the Euler angles."
   ]
  },
  {
   "cell_type": "code",
   "execution_count": 6,
   "metadata": {},
   "outputs": [
    {
     "data": {
      "image/png": "[encoded data removed]",
      "text/plain": [
       "<matplotlib.figure.Figure at 0x20b04cb2860>"
      ]
     },
     "metadata": {},
     "output_type": "display_data"
    }
   ],
   "source": [
    "plt.plot(results['time'], results['phi_velocity'], label='phi_velocity')\n",
    "plt.plot(results['time'], results['theta_velocity'], label='theta_velocity')\n",
    "plt.plot(results['time'], results['psi_velocity'], label='psi_velocity')\n",
    "plt.legend()\n",
    "_ = plt.ylim()"
   ]
  },
  {
   "cell_type": "markdown",
   "metadata": {},
   "source": [
    "Finally, you can use the code cell below to print the agent's choice of actions.  "
   ]
  },
  {
   "cell_type": "code",
   "execution_count": 7,
   "metadata": {},
   "outputs": [
    {
     "data": {
      "image/png": "[encoded data removed]",
      "text/plain": [
       "<matplotlib.figure.Figure at 0x20b04f07320>"
      ]
     },
     "metadata": {},
     "output_type": "display_data"
    }
   ],
   "source": [
    "plt.plot(results['time'], results['rotor_speed1'], label='Rotor 1 revolutions / second')\n",
    "plt.plot(results['time'], results['rotor_speed2'], label='Rotor 2 revolutions / second')\n",
    "plt.plot(results['time'], results['rotor_speed3'], label='Rotor 3 revolutions / second')\n",
    "plt.plot(results['time'], results['rotor_speed4'], label='Rotor 4 revolutions / second')\n",
    "plt.legend()\n",
    "_ = plt.ylim()"
   ]
  },
  {
   "cell_type": "markdown",
   "metadata": {},
   "source": [
    "When specifying a task, you will derive the environment state from the simulator.  Run the code cell below to print the values of the following variables at the end of the simulation:\n",
    "- `task.sim.pose` (the position of the quadcopter in ($x,y,z$) dimensions and the Euler angles),\n",
    "- `task.sim.v` (the velocity of the quadcopter in ($x,y,z$) dimensions), and\n",
    "- `task.sim.angular_v` (radians/second for each of the three Euler angles)."
   ]
  },
  {
   "cell_type": "code",
   "execution_count": 8,
   "metadata": {},
   "outputs": [
    {
     "name": "stdout",
     "output_type": "stream",
     "text": [
      "[ 41.88850549 -47.98430656   0.           5.17187558   5.01332851   0.        ]\n",
      "[ 14.3242333  -26.15410983 -38.86230433]\n",
      "[-0.18072227 -0.22792103  0.        ]\n"
     ]
    }
   ],
   "source": [
    "# the pose, velocity, and angular velocity of the quadcopter at the end of the episode\n",
    "print(task.sim.pose)\n",
    "print(task.sim.v)\n",
    "print(task.sim.angular_v)"
   ]
  },
  {
   "cell_type": "markdown",
   "metadata": {},
   "source": [
    "In the sample task in `task.py`, we use the 6-dimensional pose of the quadcopter to construct the state of the environment at each timestep.  However, when amending the task for your purposes, you are welcome to expand the size of the state vector by including the velocity information.  You can use any combination of the pose, velocity, and angular velocity - feel free to tinker here, and construct the state to suit your task.\n",
    "\n",
    "## The Task\n",
    "\n",
    "A sample task has been provided for you in `task.py`.  Open this file in a new window now. \n",
    "\n",
    "The `__init__()` method is used to initialize several variables that are needed to specify the task.  \n",
    "- The simulator is initialized as an instance of the `PhysicsSim` class (from `physics_sim.py`).  \n",
    "- Inspired by the methodology in the original DDPG paper, we make use of action repeats.  For each timestep of the agent, we step the simulation `action_repeats` timesteps.  If you are not familiar with action repeats, please read the **Results** section in [the DDPG paper](https://arxiv.org/abs/1509.02971).\n",
    "- We set the number of elements in the state vector.  For the sample task, we only work with the 6-dimensional pose information.  To set the size of the state (`state_size`), we must take action repeats into account.  \n",
    "- The environment will always have a 4-dimensional action space, with one entry for each rotor (`action_size=4`). You can set the minimum (`action_low`) and maximum (`action_high`) values of each entry here.\n",
    "- The sample task in this provided file is for the agent to reach a target position.  We specify that target position as a variable.\n",
    "\n",
    "The `reset()` method resets the simulator.  The agent should call this method every time the episode ends.  You can see an example of this in the code cell below.\n",
    "\n",
    "The `step()` method is perhaps the most important.  It accepts the agent's choice of action `rotor_speeds`, which is used to prepare the next state to pass on to the agent.  Then, the reward is computed from `get_reward()`.  The episode is considered done if the time limit has been exceeded, or the quadcopter has travelled outside of the bounds of the simulation.\n",
    "\n",
    "In the next section, you will learn how to test the performance of an agent on this task."
   ]
  },
  {
   "cell_type": "markdown",
   "metadata": {},
   "source": [
    "## The Agent\n",
    "\n",
    "The sample agent given in `agents/policy_search.py` uses a very simplistic linear policy to directly compute the action vector as a dot product of the state vector and a matrix of weights. Then, it randomly perturbs the parameters by adding some Gaussian noise, to produce a different policy. Based on the average reward obtained in each episode (`score`), it keeps track of the best set of parameters found so far, how the score is changing, and accordingly tweaks a scaling factor to widen or tighten the noise.\n",
    "\n",
    "Run the code cell below to see how the agent performs on the sample task."
   ]
  },
  {
   "cell_type": "code",
   "execution_count": 9,
   "metadata": {},
   "outputs": [
    {
     "name": "stdout",
     "output_type": "stream",
     "text": [
      "Episode = 1000, score =  -2.510 (best =   0.064), noise_scale = 3.25"
     ]
    }
   ],
   "source": [
    "import sys\n",
    "import pandas as pd\n",
    "from agents.policy_search import PolicySearch_Agent\n",
    "from task import Task\n",
    "\n",
    "num_episodes = 1000\n",
    "target_pos = np.array([0., 0., 10.])\n",
    "task = Task(target_pos=target_pos)\n",
    "agent = PolicySearch_Agent(task) \n",
    "\n",
    "for i_episode in range(1, num_episodes+1):\n",
    "    state = agent.reset_episode() # start a new episode\n",
    "    while True:\n",
    "        action = agent.act(state) \n",
    "        next_state, reward, done = task.step(action)\n",
    "        agent.step(reward, done)\n",
    "        state = next_state\n",
    "        if done:\n",
    "            print(\"\\rEpisode = {:4d}, score = {:7.3f} (best = {:7.3f}), noise_scale = {}\".format(\n",
    "                i_episode, agent.score, agent.best_score, agent.noise_scale), end=\"\")  \n",
    "            break\n",
    "    sys.stdout.flush()"
   ]
  },
  {
   "cell_type": "markdown",
   "metadata": {},
   "source": [
    "This agent should perform very poorly on this task.  And that's where you come in!"
   ]
  },
  {
   "cell_type": "markdown",
   "metadata": {
    "collapsed": true
   },
   "source": [
    "## Define the Task, Design the Agent, and Train Your Agent!\n",
    "\n",
    "Amend `task.py` to specify a task of your choosing.  If you're unsure what kind of task to specify, you may like to teach your quadcopter to takeoff, hover in place, land softly, or reach a target pose.  \n",
    "\n",
    "After specifying your task, use the sample agent in `agents/policy_search.py` as a template to define your own agent in `agents/agent.py`.  You can borrow whatever you need from the sample agent, including ideas on how you might modularize your code (using helper methods like `act()`, `learn()`, `reset_episode()`, etc.).\n",
    "\n",
    "Note that it is **highly unlikely** that the first agent and task that you specify will learn well.  You will likely have to tweak various hyperparameters and the reward function for your task until you arrive at reasonably good behavior.\n",
    "\n",
    "As you develop your agent, it's important to keep an eye on how it's performing. Use the code above as inspiration to build in a mechanism to log/save the total rewards obtained in each episode to file.  If the episode rewards are gradually increasing, this is an indication that your agent is learning."
   ]
  },
  {
   "cell_type": "code",
   "execution_count": 10,
   "metadata": {},
   "outputs": [
    {
     "name": "stderr",
     "output_type": "stream",
     "text": [
      "Using TensorFlow backend.\n"
     ]
    },
    {
     "name": "stdout",
     "output_type": "stream",
     "text": [
      "The reward after 1 episode is -1727.525514907617\n",
      "The reward after 2 episode is -1727.9631699529214\n",
      "The reward after 3 episode is -1727.1589827283267\n",
      "The reward after 4 episode is -1821.6529762598643\n",
      "The reward after 5 episode is -2224.5776356436213\n",
      "The reward after 6 episode is -2062.8754617635877\n",
      "The reward after 7 episode is -1951.1582643266413\n",
      "The reward after 8 episode is -2036.1657881498177\n",
      "The reward after 9 episode is -2034.37275957817\n",
      "The reward after 10 episode is -1950.5743807928166\n",
      "The reward after 11 episode is -1864.0197979655309\n",
      "The reward after 12 episode is -1866.274591374579\n",
      "The reward after 13 episode is -1951.449217397375\n",
      "The reward after 14 episode is -2039.3020110877376\n",
      "The reward after 15 episode is -2135.137575911784\n",
      "The reward after 16 episode is -2117.3396755109648\n",
      "The reward after 17 episode is -2118.672800516149\n",
      "The reward after 18 episode is -2086.5509699443996\n",
      "The reward after 19 episode is -2072.290011310439\n",
      "The reward after 20 episode is -1952.4655888744653\n",
      "The reward after 21 episode is -1957.1607195431397\n",
      "The reward after 22 episode is -2064.5129387584943\n",
      "The reward after 23 episode is -2069.2239031551812\n",
      "The reward after 24 episode is -2036.9035799062433\n",
      "The reward after 25 episode is -2034.7587006171484\n",
      "The reward after 26 episode is -1951.3075330053305\n",
      "The reward after 27 episode is -1952.0656235101405\n",
      "The reward after 28 episode is -2040.5439531657642\n",
      "The reward after 29 episode is -2033.2375108964793\n",
      "The reward after 30 episode is -2037.504238513109\n",
      "The reward after 31 episode is -2054.177204878523\n",
      "The reward after 32 episode is -1968.476220279115\n",
      "The reward after 33 episode is -2038.9729033246335\n",
      "The reward after 34 episode is -1952.425599629233\n",
      "The reward after 35 episode is -2059.7270749735844\n",
      "The reward after 36 episode is -2117.4634544873993\n",
      "The reward after 37 episode is -1952.5962027799555\n",
      "The reward after 38 episode is -2129.6101544728554\n",
      "The reward after 39 episode is -2036.3251943463529\n",
      "The reward after 40 episode is -1788.135194015973\n",
      "The reward after 41 episode is -2121.061313659665\n",
      "The reward after 42 episode is -1955.3465956975879\n",
      "The reward after 43 episode is -1881.4669299854615\n",
      "The reward after 44 episode is -1883.772497694198\n",
      "The reward after 45 episode is -1944.0845624635538\n",
      "The reward after 46 episode is -1951.1362214769795\n",
      "The reward after 47 episode is -1953.0350181237127\n",
      "The reward after 48 episode is -2026.7899174251777\n",
      "The reward after 49 episode is -1948.9906797593605\n",
      "The reward after 50 episode is -1948.5554499373775\n",
      "The reward after 51 episode is -2035.1172906055133\n",
      "The reward after 52 episode is -2198.9138118428423\n",
      "The reward after 53 episode is -2071.6480258497672\n",
      "The reward after 54 episode is -2141.621922983476\n",
      "The reward after 55 episode is -1740.6624194615147\n",
      "The reward after 56 episode is -2112.2293517061244\n",
      "The reward after 57 episode is -2048.8836482576094\n",
      "The reward after 58 episode is -2583.979735951244\n",
      "The reward after 59 episode is -2073.688243599595\n",
      "The reward after 60 episode is -1495.0929877763388\n",
      "The reward after 61 episode is -2062.735702990192\n",
      "The reward after 62 episode is -2205.2918260363986\n",
      "The reward after 63 episode is -1902.6134018869193\n",
      "The reward after 64 episode is -1882.3441216659708\n",
      "The reward after 65 episode is -2726.713859063585\n",
      "The reward after 66 episode is -1976.5503358944927\n",
      "The reward after 67 episode is -1989.600222861774\n",
      "The reward after 68 episode is -2157.197166002893\n",
      "The reward after 69 episode is -2051.4553217781236\n",
      "The reward after 70 episode is -2084.3929445800236\n",
      "The reward after 71 episode is -1992.432001526176\n",
      "The reward after 72 episode is -2686.4136202525056\n",
      "The reward after 73 episode is -3796.6661402320683\n",
      "The reward after 74 episode is -7898.694010329027\n",
      "The reward after 75 episode is -4083.097452157881\n",
      "The reward after 76 episode is -7197.7011999214055\n",
      "The reward after 77 episode is -3340.807244400026\n",
      "The reward after 78 episode is -2039.47845116325\n",
      "The reward after 79 episode is -2075.642920781399\n",
      "The reward after 80 episode is -1588.34143871429\n",
      "The reward after 81 episode is -2246.1103596601506\n",
      "The reward after 82 episode is -2109.296414190882\n",
      "The reward after 83 episode is -1584.4765548342639\n",
      "The reward after 84 episode is -2093.9427969995395\n",
      "The reward after 85 episode is -2256.4772897116363\n",
      "The reward after 86 episode is -1565.3600648121637\n",
      "The reward after 87 episode is -2287.8723876811523\n",
      "The reward after 88 episode is -1642.9666787897388\n",
      "The reward after 89 episode is -2521.086506695237\n",
      "The reward after 90 episode is -2150.1553265040707\n",
      "The reward after 91 episode is -2120.25273631168\n",
      "The reward after 92 episode is -2131.9633769202605\n",
      "The reward after 93 episode is -2119.530300664966\n",
      "The reward after 94 episode is -2119.2637041798944\n",
      "The reward after 95 episode is -2116.6650771273485\n",
      "The reward after 96 episode is -2017.0655387918955\n",
      "The reward after 97 episode is -1958.0844970261128\n",
      "The reward after 98 episode is -1921.4080553076824\n",
      "The reward after 99 episode is -1962.678965106936\n",
      "The reward after 100 episode is -1807.4283447485147\n",
      "The reward after 101 episode is -2460.4870343803314\n",
      "The reward after 102 episode is -2722.327254126604\n",
      "The reward after 103 episode is -2870.9138571632966\n",
      "The reward after 104 episode is -2894.7668181297463\n",
      "The reward after 105 episode is -2056.2500559965915\n",
      "The reward after 106 episode is -2044.246540439561\n",
      "The reward after 107 episode is -3023.477417937139\n",
      "The reward after 108 episode is -2123.5087154949692\n",
      "The reward after 109 episode is -2246.6188017062977\n",
      "The reward after 110 episode is -1732.8088791661312\n",
      "The reward after 111 episode is -2322.4755030764736\n",
      "The reward after 112 episode is -1659.7668529549067\n",
      "The reward after 113 episode is -2625.5706278878793\n",
      "The reward after 114 episode is -2138.4702641533977\n",
      "The reward after 115 episode is -2635.741256676363\n",
      "The reward after 116 episode is -2246.060843800119\n",
      "The reward after 117 episode is -1841.9441358422755\n",
      "The reward after 118 episode is -1820.89779063312\n",
      "The reward after 119 episode is -2558.17715060847\n",
      "The reward after 120 episode is -1851.7355305536375\n",
      "The reward after 121 episode is -1804.2163118018618\n",
      "The reward after 122 episode is -2141.7973408545504\n",
      "The reward after 123 episode is -1881.8986254985234\n",
      "The reward after 124 episode is -2233.386880238985\n",
      "The reward after 125 episode is -1862.102483757157\n",
      "The reward after 126 episode is -1926.836246862875\n",
      "The reward after 127 episode is -2058.173925089429\n",
      "The reward after 128 episode is -1937.6209286470894\n",
      "The reward after 129 episode is -2918.338087459651\n",
      "The reward after 130 episode is -2039.3748767958825\n",
      "The reward after 131 episode is -2201.6667396922444\n",
      "The reward after 132 episode is -2020.8618922628511\n",
      "The reward after 133 episode is -2273.367567221729\n",
      "The reward after 134 episode is -1637.0670924251942\n",
      "The reward after 135 episode is -1905.4355303436578\n",
      "The reward after 136 episode is -1902.3928789791203\n",
      "The reward after 137 episode is -2074.359052688299\n",
      "The reward after 138 episode is -1823.2783005115814\n",
      "The reward after 139 episode is -2299.025031303769\n",
      "The reward after 140 episode is -1828.4454669862776\n",
      "The reward after 141 episode is -1729.084419688985\n",
      "The reward after 142 episode is -1905.311201421152\n",
      "The reward after 143 episode is -2078.4637545842434\n",
      "The reward after 144 episode is -1645.2292940338702\n",
      "The reward after 145 episode is -1643.1341362432527\n",
      "The reward after 146 episode is -2335.1499630856088\n",
      "The reward after 147 episode is -3472.4177605704513\n",
      "The reward after 148 episode is -6410.861051566896\n",
      "The reward after 149 episode is -8618.400014176596\n",
      "The reward after 150 episode is -8720.514861591377\n",
      "The reward after 151 episode is -7555.580800558423\n",
      "The reward after 152 episode is -1931.931773394229\n",
      "The reward after 153 episode is -2170.5384213327525\n",
      "The reward after 154 episode is -2008.2507939990185\n",
      "The reward after 155 episode is -2200.080540089598\n",
      "The reward after 156 episode is -2041.6215944364142\n",
      "The reward after 157 episode is -2227.8660477465282\n",
      "The reward after 158 episode is -2041.8293984996\n",
      "The reward after 159 episode is -1961.056906539899\n",
      "The reward after 160 episode is -2227.437752733273\n",
      "The reward after 161 episode is -2128.203552004853\n"
     ]
    },
    {
     "name": "stdout",
     "output_type": "stream",
     "text": [
      "The reward after 162 episode is -2053.0140619611957\n",
      "The reward after 163 episode is -2110.2788910878303\n",
      "The reward after 164 episode is -2827.6469883565446\n",
      "The reward after 165 episode is -1837.0779071443196\n",
      "The reward after 166 episode is -2006.0930844336863\n",
      "The reward after 167 episode is -2093.05565276186\n",
      "The reward after 168 episode is -2550.408122739602\n",
      "The reward after 169 episode is -2476.323527836251\n",
      "The reward after 170 episode is -2281.2248844094825\n",
      "The reward after 171 episode is -1938.306231223063\n",
      "The reward after 172 episode is -1963.051677301205\n",
      "The reward after 173 episode is -2678.947353315859\n",
      "The reward after 174 episode is -2638.805754446413\n",
      "The reward after 175 episode is -3140.726442406333\n",
      "The reward after 176 episode is -2410.197474149067\n",
      "The reward after 177 episode is -2336.4039912778353\n",
      "The reward after 178 episode is -3505.4209448531183\n",
      "The reward after 179 episode is -2324.9551152142267\n",
      "The reward after 180 episode is -2135.1792207490944\n",
      "The reward after 181 episode is -2131.805095269429\n",
      "The reward after 182 episode is -1724.6509177794887\n",
      "The reward after 183 episode is -2159.519930557423\n",
      "The reward after 184 episode is -2220.896505865966\n",
      "The reward after 185 episode is -2120.438918122993\n",
      "The reward after 186 episode is -2463.343700303804\n",
      "The reward after 187 episode is -2142.313428204302\n",
      "The reward after 188 episode is -2365.3544536969775\n",
      "The reward after 189 episode is -2187.733303025097\n",
      "The reward after 190 episode is -2291.2084568757036\n",
      "The reward after 191 episode is -2443.8411813257585\n",
      "The reward after 192 episode is -2330.8952545227557\n",
      "The reward after 193 episode is -2038.7568069187464\n",
      "The reward after 194 episode is -2286.035608866036\n",
      "The reward after 195 episode is -2205.214425773533\n",
      "The reward after 196 episode is -2394.694268609229\n",
      "The reward after 197 episode is -2137.427885425448\n",
      "The reward after 198 episode is -1876.7467441083538\n",
      "The reward after 199 episode is -2362.841767244364\n",
      "The reward after 200 episode is -2214.1570679871625\n",
      "The reward after 201 episode is -2365.1383299623253\n",
      "The reward after 202 episode is -2229.144668237653\n",
      "The reward after 203 episode is -2488.9185406832107\n",
      "The reward after 204 episode is -1968.842418879776\n",
      "The reward after 205 episode is -2351.4438143541174\n",
      "The reward after 206 episode is -2126.6380976787705\n",
      "The reward after 207 episode is -2215.8635866107347\n",
      "The reward after 208 episode is -2132.8131364091246\n",
      "The reward after 209 episode is -2142.8914795921214\n",
      "The reward after 210 episode is -2209.5106798648776\n",
      "The reward after 211 episode is -2203.9898898054835\n",
      "The reward after 212 episode is -2191.5030671908858\n",
      "The reward after 213 episode is -2127.0445172873033\n",
      "The reward after 214 episode is -2280.4491771399134\n",
      "The reward after 215 episode is -2043.6826087381964\n",
      "The reward after 216 episode is -2134.333588600675\n",
      "The reward after 217 episode is -2218.8591937149304\n",
      "The reward after 218 episode is -2212.422122413608\n",
      "The reward after 219 episode is -1977.9708793605025\n",
      "The reward after 220 episode is -2226.2088385828024\n",
      "The reward after 221 episode is -2126.0214876916316\n",
      "The reward after 222 episode is -2294.8679320142414\n",
      "The reward after 223 episode is -2128.27701092309\n",
      "The reward after 224 episode is -2136.13166906584\n",
      "The reward after 225 episode is -2297.718262191306\n",
      "The reward after 226 episode is -2137.4154846096167\n",
      "The reward after 227 episode is -2130.6045586216283\n",
      "The reward after 228 episode is -2207.888266759002\n",
      "The reward after 229 episode is -2044.6372837359838\n",
      "The reward after 230 episode is -2126.5233127842585\n",
      "The reward after 231 episode is -2046.0487207394838\n",
      "The reward after 232 episode is -2128.683490387675\n",
      "The reward after 233 episode is -2133.201511730609\n",
      "The reward after 234 episode is -2126.074709463628\n",
      "The reward after 235 episode is -2128.4566935195485\n",
      "The reward after 236 episode is -2129.047154567716\n",
      "The reward after 237 episode is -2127.5073878489934\n",
      "The reward after 238 episode is -2215.2315495027037\n",
      "The reward after 239 episode is -1907.0907762315428\n",
      "The reward after 240 episode is -1631.5999141510192\n",
      "The reward after 241 episode is -2433.0050418744995\n",
      "The reward after 242 episode is -2042.5983638113332\n",
      "The reward after 243 episode is -2119.426875812348\n",
      "The reward after 244 episode is -1992.2966585342667\n",
      "The reward after 245 episode is -1990.8694304866876\n",
      "The reward after 246 episode is -2049.9918228902984\n",
      "The reward after 247 episode is -1891.1141281745815\n",
      "The reward after 248 episode is -2144.9232178220054\n",
      "The reward after 249 episode is -1971.2087657293653\n",
      "The reward after 250 episode is -2290.4229573995185\n",
      "The reward after 251 episode is -1904.9229794779849\n",
      "The reward after 252 episode is -1883.0089195042015\n",
      "The reward after 253 episode is -2067.487112919531\n",
      "The reward after 254 episode is -2043.14410606513\n",
      "The reward after 255 episode is -2798.9323150776067\n",
      "The reward after 256 episode is -2250.803170982358\n",
      "The reward after 257 episode is -2794.7548128577146\n",
      "The reward after 258 episode is -2241.328595457351\n",
      "The reward after 259 episode is -2398.9593462775583\n",
      "The reward after 260 episode is -3339.017038043191\n",
      "The reward after 261 episode is -1981.2713172665144\n",
      "The reward after 262 episode is -2373.90657287929\n",
      "The reward after 263 episode is -1974.062367580802\n",
      "The reward after 264 episode is -1487.4858824560613\n",
      "The reward after 265 episode is -2222.36167258484\n",
      "The reward after 266 episode is -1688.412387236651\n",
      "The reward after 267 episode is -3239.5935288678147\n",
      "The reward after 268 episode is -3617.3143753197837\n",
      "The reward after 269 episode is -2012.9541383000944\n",
      "The reward after 270 episode is -1909.8912571318326\n",
      "The reward after 271 episode is -2234.0878102408774\n",
      "The reward after 272 episode is -2131.618715459749\n",
      "The reward after 273 episode is -2700.103824101973\n",
      "The reward after 274 episode is -1790.6078304608502\n",
      "The reward after 275 episode is -2121.548292932496\n",
      "The reward after 276 episode is -2057.46401935163\n",
      "The reward after 277 episode is -2381.3342265417164\n",
      "The reward after 278 episode is -1979.4719539499479\n",
      "The reward after 279 episode is -2273.0255339692144\n",
      "The reward after 280 episode is -2054.671468596338\n",
      "The reward after 281 episode is -2668.639647743003\n",
      "The reward after 282 episode is -2131.763130990703\n",
      "The reward after 283 episode is -2370.655142001053\n",
      "The reward after 284 episode is -2130.2276217537483\n",
      "The reward after 285 episode is -2041.874642739\n",
      "The reward after 286 episode is -2128.2708597586166\n",
      "The reward after 287 episode is -2121.8648012472354\n",
      "The reward after 288 episode is -2131.2179076667394\n",
      "The reward after 289 episode is -2282.743817412293\n",
      "The reward after 290 episode is -1956.7205564702208\n",
      "The reward after 291 episode is -2281.5907228652554\n",
      "The reward after 292 episode is -1968.1372662295096\n",
      "The reward after 293 episode is -2550.6795608484163\n",
      "The reward after 294 episode is -2133.8490977908214\n",
      "The reward after 295 episode is -2298.4666306009\n",
      "The reward after 296 episode is -2132.94030601869\n",
      "The reward after 297 episode is -2210.7650906329955\n",
      "The reward after 298 episode is -1954.676444017917\n",
      "The reward after 299 episode is -2384.597206089361\n",
      "The reward after 300 episode is -2216.8408303488623\n",
      "The reward after 301 episode is -2290.6037731517563\n",
      "The reward after 302 episode is -2286.777746157774\n",
      "The reward after 303 episode is -2143.8219029390166\n",
      "The reward after 304 episode is -2475.034759065118\n",
      "The reward after 305 episode is -2240.228099338664\n",
      "The reward after 306 episode is -2054.1077600788567\n",
      "The reward after 307 episode is -2041.2711807399628\n",
      "The reward after 308 episode is -1977.2876091403164\n",
      "The reward after 309 episode is -2052.2932668695757\n",
      "The reward after 310 episode is -2078.6515552290907\n",
      "The reward after 311 episode is -2139.0872559082995\n",
      "The reward after 312 episode is -2127.896173227766\n",
      "The reward after 313 episode is -2223.114126721289\n",
      "The reward after 314 episode is -2127.914869238192\n",
      "The reward after 315 episode is -2136.3258926768876\n",
      "The reward after 316 episode is -2134.804235375056\n",
      "The reward after 317 episode is -2129.0889728396255\n",
      "The reward after 318 episode is -2202.1242606544433\n",
      "The reward after 319 episode is -2127.4566812806797\n",
      "The reward after 320 episode is -2275.7182679962743\n",
      "The reward after 321 episode is -2127.7165269141415\n"
     ]
    },
    {
     "name": "stdout",
     "output_type": "stream",
     "text": [
      "The reward after 322 episode is -2040.3782106943213\n",
      "The reward after 323 episode is -2128.620509478723\n",
      "The reward after 324 episode is -2127.9100781415364\n",
      "The reward after 325 episode is -2126.6932921549305\n",
      "The reward after 326 episode is -2128.1042739784793\n",
      "The reward after 327 episode is -2128.4982540177057\n",
      "The reward after 328 episode is -2127.706598148395\n",
      "The reward after 329 episode is -2128.072384898887\n",
      "The reward after 330 episode is -2128.7459046201566\n",
      "The reward after 331 episode is -2127.347907403313\n",
      "The reward after 332 episode is -2128.701914840869\n",
      "The reward after 333 episode is -2128.454057247812\n",
      "The reward after 334 episode is -2128.3895927486324\n",
      "The reward after 335 episode is -2129.252354680857\n",
      "The reward after 336 episode is -2129.767179454269\n",
      "The reward after 337 episode is -2041.3638943303774\n",
      "The reward after 338 episode is -2128.892583454746\n",
      "The reward after 339 episode is -2038.8904340206216\n",
      "The reward after 340 episode is -2123.179874273545\n",
      "The reward after 341 episode is -2039.0825124372964\n",
      "The reward after 342 episode is -2040.048501380179\n",
      "The reward after 343 episode is -2040.4650296010886\n",
      "The reward after 344 episode is -2127.115611939903\n",
      "The reward after 345 episode is -2039.1747367147086\n",
      "The reward after 346 episode is -2037.771886324001\n",
      "The reward after 347 episode is -2043.7797973049217\n",
      "The reward after 348 episode is -2124.811259691077\n",
      "The reward after 349 episode is -2129.742216558599\n",
      "The reward after 350 episode is -2127.937451288845\n",
      "The reward after 351 episode is -2122.2098581949376\n",
      "The reward after 352 episode is -2122.151852190822\n",
      "The reward after 353 episode is -2130.9047155267945\n",
      "The reward after 354 episode is -2121.66748333199\n",
      "The reward after 355 episode is -2039.320152813505\n",
      "The reward after 356 episode is -2122.5929774123515\n",
      "The reward after 357 episode is -2125.170716115388\n",
      "The reward after 358 episode is -2033.8544417773182\n",
      "The reward after 359 episode is -2208.619881981862\n",
      "The reward after 360 episode is -2130.5277208115904\n",
      "The reward after 361 episode is -2128.920723547468\n",
      "The reward after 362 episode is -2042.306945941385\n",
      "The reward after 363 episode is -2129.553702666548\n",
      "The reward after 364 episode is -2043.0451403984023\n",
      "The reward after 365 episode is -2042.2123776828284\n",
      "The reward after 366 episode is -2123.1918091711586\n",
      "The reward after 367 episode is -2375.8145533648676\n",
      "The reward after 368 episode is -2376.4109348294487\n",
      "The reward after 369 episode is -2132.6006813140143\n",
      "The reward after 370 episode is -2133.319371741217\n",
      "The reward after 371 episode is -2133.7207167463507\n",
      "The reward after 372 episode is -2131.461806700975\n",
      "The reward after 373 episode is -2132.9485129305813\n",
      "The reward after 374 episode is -1787.0499193854325\n",
      "The reward after 375 episode is -2213.8276023203857\n",
      "The reward after 376 episode is -2118.0641444374733\n",
      "The reward after 377 episode is -2208.7419492201802\n",
      "The reward after 378 episode is -2214.1306993203616\n",
      "The reward after 379 episode is -2042.2210015668588\n",
      "The reward after 380 episode is -2216.5423620123547\n",
      "The reward after 381 episode is -2129.174072021311\n",
      "The reward after 382 episode is -2124.363918752401\n",
      "The reward after 383 episode is -1960.00187286734\n",
      "The reward after 384 episode is -2211.479073672288\n",
      "The reward after 385 episode is -2131.074358992014\n",
      "The reward after 386 episode is -2210.3056378108126\n",
      "The reward after 387 episode is -2388.6380048159704\n",
      "The reward after 388 episode is -2217.1549054319426\n",
      "The reward after 389 episode is -2131.357557071017\n",
      "The reward after 390 episode is -2033.8409996630512\n",
      "The reward after 391 episode is -2128.6845850308437\n",
      "The reward after 392 episode is -2131.510332367611\n",
      "The reward after 393 episode is -2116.6381785732005\n",
      "The reward after 394 episode is -2204.408518324656\n",
      "The reward after 395 episode is -2041.9972456754876\n",
      "The reward after 396 episode is -2042.5895541148063\n",
      "The reward after 397 episode is -2044.8990747145845\n",
      "The reward after 398 episode is -2218.0868890440893\n",
      "The reward after 399 episode is -2143.2070414838204\n",
      "The reward after 400 episode is -2146.010050008222\n",
      "The reward after 401 episode is -2047.1294133762653\n",
      "The reward after 402 episode is -2044.5005637462532\n",
      "The reward after 403 episode is -2216.0367114176724\n",
      "The reward after 404 episode is -2041.3625528229263\n",
      "The reward after 405 episode is -2227.872037216037\n",
      "The reward after 406 episode is -2048.113644413859\n",
      "The reward after 407 episode is -2134.403002283147\n",
      "The reward after 408 episode is -2063.8650893787017\n",
      "The reward after 409 episode is -2125.796906602435\n",
      "The reward after 410 episode is -2215.5462689042333\n",
      "The reward after 411 episode is -2128.336869494474\n",
      "The reward after 412 episode is -2134.47811284798\n",
      "The reward after 413 episode is -2053.962194481502\n",
      "The reward after 414 episode is -2045.8293204890185\n",
      "The reward after 415 episode is -2221.574919448225\n",
      "The reward after 416 episode is -2136.628841597173\n",
      "The reward after 417 episode is -2141.0286397588943\n",
      "The reward after 418 episode is -2133.2718279605792\n",
      "The reward after 419 episode is -2151.951821828296\n",
      "The reward after 420 episode is -2234.3507259166304\n",
      "The reward after 421 episode is -2130.9463552127463\n",
      "The reward after 422 episode is -2230.101026394844\n",
      "The reward after 423 episode is -2054.4169024796565\n",
      "The reward after 424 episode is -2146.042233799532\n",
      "The reward after 425 episode is -2035.0529395955361\n",
      "The reward after 426 episode is -2042.1576699636285\n",
      "The reward after 427 episode is -2216.64311647161\n",
      "The reward after 428 episode is -2049.5667558734144\n",
      "The reward after 429 episode is -2143.353131229279\n",
      "The reward after 430 episode is -2135.436531787733\n",
      "The reward after 431 episode is -1961.0418770647395\n",
      "The reward after 432 episode is -2131.165231111077\n",
      "The reward after 433 episode is -1959.5774813456153\n",
      "The reward after 434 episode is -2034.2720101666866\n",
      "The reward after 435 episode is -2306.5758761596817\n",
      "The reward after 436 episode is -1963.9818599358882\n",
      "The reward after 437 episode is -1959.453518313541\n",
      "The reward after 438 episode is -2047.6432358729276\n",
      "The reward after 439 episode is -2031.7682765195175\n",
      "The reward after 440 episode is -2127.970427616611\n",
      "The reward after 441 episode is -2388.842344407154\n",
      "The reward after 442 episode is -2043.777710475536\n",
      "The reward after 443 episode is -2043.6005572530494\n",
      "The reward after 444 episode is -2049.003015999141\n",
      "The reward after 445 episode is -2135.7931798213144\n",
      "The reward after 446 episode is -1971.4199817502426\n",
      "The reward after 447 episode is -2050.409509805437\n",
      "The reward after 448 episode is -2134.4741684096157\n",
      "The reward after 449 episode is -2143.561402293202\n",
      "The reward after 450 episode is -1861.3655651405695\n",
      "The reward after 451 episode is -2469.317807215827\n",
      "The reward after 452 episode is -2115.8399884330706\n",
      "The reward after 453 episode is -2032.9067637590247\n",
      "The reward after 454 episode is -2032.156431082552\n",
      "The reward after 455 episode is -2036.5065171706187\n",
      "The reward after 456 episode is -2295.780101157936\n",
      "The reward after 457 episode is -2229.2910668790664\n",
      "The reward after 458 episode is -1977.6344164093096\n",
      "The reward after 459 episode is -2322.0480607885515\n",
      "The reward after 460 episode is -1897.1522158529297\n",
      "The reward after 461 episode is -2239.1009521311944\n",
      "The reward after 462 episode is -2046.6521405986684\n",
      "The reward after 463 episode is -2393.1016563624203\n",
      "The reward after 464 episode is -2136.5224770913023\n",
      "The reward after 465 episode is -2120.0374447556783\n",
      "The reward after 466 episode is -2042.6815016872147\n",
      "The reward after 467 episode is -2303.197104691279\n",
      "The reward after 468 episode is -2033.5270044153974\n",
      "The reward after 469 episode is -2052.561569715088\n",
      "The reward after 470 episode is -2237.2909802305953\n",
      "The reward after 471 episode is -1952.9347558070542\n",
      "The reward after 472 episode is -1953.9831679736528\n",
      "The reward after 473 episode is -1959.5283199060523\n",
      "The reward after 474 episode is -2049.628028088164\n",
      "The reward after 475 episode is -2321.214071079704\n",
      "The reward after 476 episode is -2233.2462423808975\n",
      "The reward after 477 episode is -2138.7786246025516\n",
      "The reward after 478 episode is -2045.2016638731834\n",
      "The reward after 479 episode is -2132.6259978351945\n",
      "The reward after 480 episode is -2041.8828680801937\n"
     ]
    },
    {
     "name": "stdout",
     "output_type": "stream",
     "text": [
      "The reward after 481 episode is -2146.72840918859\n",
      "The reward after 482 episode is -2234.640634094792\n",
      "The reward after 483 episode is -2139.4279077291876\n",
      "The reward after 484 episode is -2311.4518861353217\n",
      "The reward after 485 episode is -2153.507552463406\n",
      "The reward after 486 episode is -2042.8854660866743\n",
      "The reward after 487 episode is -1957.8147427864951\n",
      "The reward after 488 episode is -2037.373605640225\n",
      "The reward after 489 episode is -2035.3152055608286\n",
      "The reward after 490 episode is -1949.4618099229551\n",
      "The reward after 491 episode is -2136.002855999698\n",
      "The reward after 492 episode is -2046.1848504376735\n",
      "The reward after 493 episode is -2215.301581815195\n",
      "The reward after 494 episode is -1952.731274844666\n",
      "The reward after 495 episode is -2126.103939682329\n",
      "The reward after 496 episode is -2034.3753789743596\n",
      "The reward after 497 episode is -2304.429027918779\n",
      "The reward after 498 episode is -2136.699615120214\n",
      "The reward after 499 episode is -2219.4432878292646\n",
      "The reward after 500 episode is -2124.4072598622465\n"
     ]
    }
   ],
   "source": [
    "## TODO: Train your agent here.\n",
    "import sys\n",
    "import pandas as pd\n",
    "import numpy as np\n",
    "from agents.policy_search import PolicySearch_Agent\n",
    "from agents.agent import DDPG\n",
    "from task import Task\n",
    "\n",
    "num_episodes = 500\n",
    "target_pos = np.array([0., 0., 100.])\n",
    "task = Task(target_pos=target_pos)\n",
    "agent = DDPG(task) \n",
    "\n",
    "for i_episode in range(1, num_episodes+1):\n",
    "    state = agent.reset_episode() # start a new episode\n",
    "    score = []\n",
    "    while True:\n",
    "        action = agent.act(state) \n",
    "        next_state, reward, done = task.step(action)\n",
    "        agent.step(action, reward, next_state, done)\n",
    "        state = next_state\n",
    "        score += reward\n",
    "        if done:\n",
    "            if done:\n",
    "                print(\"The reward after {} episode is {}\".format(i_episode, agent.total_reward))\n",
    "            break\n",
    "    sys.stdout.flush()"
   ]
  },
  {
   "cell_type": "markdown",
   "metadata": {
    "collapsed": true
   },
   "source": [
    "## Plot the Rewards\n",
    "\n",
    "Once you are satisfied with your performance, plot the episode rewards, either from a single run, or averaged over multiple runs. "
   ]
  },
  {
   "cell_type": "code",
   "execution_count": 11,
   "metadata": {},
   "outputs": [
    {
     "data": {
      "text/plain": [
       "[<matplotlib.lines.Line2D at 0x20b100bbf60>]"
      ]
     },
     "execution_count": 11,
     "metadata": {},
     "output_type": "execute_result"
    },
    {
     "data": {
      "image/png": "[encoded data removed]",
      "text/plain": [
       "<matplotlib.figure.Figure at 0x20b04861438>"
      ]
     },
     "metadata": {},
     "output_type": "display_data"
    }
   ],
   "source": [
    "## TODO: Plot the rewards.\n",
    "\n",
    "import matplotlib.pyplot as plt\n",
    "%matplotlib inline\n",
    "plt.plot(np.array(agent.rewards))"
   ]
  },
  {
   "cell_type": "markdown",
   "metadata": {
    "collapsed": true
   },
   "source": [
    "## Reflections\n",
    "\n",
    "**Question 1**: Describe the task that you specified in `task.py`.  How did you design the reward function?\n",
    "\n",
    "**Answer**: This task design represents the \"take-off\", that should go up straight until target height. In order to make the agent learn this behaviour several penalty terms where added to the reward function:\n",
    "\n",
    "sum of euler angles, in order to keep the flight vertical distance from target difference between velocity and distance from target A constant reward is added when the distance to the target is below a certain threshold. A constant reward is given for each step of flight. The task state was modified in order to include also the current velocity and angular velocity."
   ]
  },
  {
   "cell_type": "markdown",
   "metadata": {},
   "source": [
    "**Question 2**: Discuss your agent briefly, using the following questions as a guide:\n",
    "\n",
    "- What learning algorithm(s) did you try? What worked best for you?\n",
    "- What was your final choice of hyperparameters (such as $\\alpha$, $\\gamma$, $\\epsilon$, etc.)?\n",
    "- What neural network architecture did you use (if any)? Specify layers, sizes, activation functions, etc.\n",
    "\n",
    "**Answer**: DDPG agent was used which was recommended and have the following hyperparameters:\n",
    "\n",
    "gamma = 0.99 \n",
    "tau = 0.01 \n",
    "exploration_mu = 0 \n",
    "exploration_theta = 0.15 \n",
    "exploration_sigma = 0.2 \n",
    "In terms of the neural network architecture, the 'relu' activation function was used and added batch normalization to increase stability."
   ]
  },
  {
   "cell_type": "markdown",
   "metadata": {},
   "source": [
    "**Question 3**: Using the episode rewards plot, discuss how the agent learned over time.\n",
    "\n",
    "- Was it an easy task to learn or hard?\n",
    "- Was there a gradual learning curve, or an aha moment?\n",
    "- How good was the final performance of the agent? (e.g. mean rewards over the last 10 episodes)\n",
    "\n",
    "**Answer**: The agent learned at around 800 episodes. It got the best results around episodes 200 to 300 but later fall again. Then the best results got around 800 episodes and keep going until the end."
   ]
  },
  {
   "cell_type": "markdown",
   "metadata": {},
   "source": [
    "**Question 4**: Briefly summarize your experience working on this project. You can use the following prompts for ideas.\n",
    "\n",
    "- What was the hardest part of the project? (e.g. getting started, plotting, specifying the task, etc.)\n",
    "- Did you find anything interesting in how the quadcopter or your agent behaved?\n",
    "\n",
    "**Answer**:The hardest part of the project is to figure out where to start and which scenario to use. Figuring out which neural network algorithm to use and what hyperparameter configuration for the particular task was also challenging. \n",
    "One thing interesting is finding out differnt number of episodes to get the best resultss."
   ]
  },
  {
   "cell_type": "code",
   "execution_count": null,
   "metadata": {
    "collapsed": true
   },
   "outputs": [],
   "source": []
  }
 ],
 "metadata": {
  "anaconda-cloud": {},
  "kernelspec": {
   "display_name": "Python 3",
   "language": "python",
   "name": "python3"
  },
  "language_info": {
   "codemirror_mode": {
    "name": "ipython",
    "version": 3
   },
   "file_extension": ".py",
   "mimetype": "text/x-python",
   "name": "python",
   "nbconvert_exporter": "python",
   "pygments_lexer": "ipython3",
   "version": "3.6.1"
  }
 },
 "nbformat": 4,
 "nbformat_minor": 2
}
